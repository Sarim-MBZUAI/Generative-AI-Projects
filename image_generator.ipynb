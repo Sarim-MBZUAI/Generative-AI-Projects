{
 "cells": [
  {
   "cell_type": "code",
   "execution_count": 4,
   "metadata": {},
   "outputs": [
    {
     "name": "stdout",
     "output_type": "stream",
     "text": [
      "iconic portrait of President Obama saluting with the American flag\n"
     ]
    }
   ],
   "source": [
    "from craiyon import Craiyon, craiyon_utils\n",
    "from PIL import Image # pip install pillow\n",
    "from io import BytesIO\n",
    "import base64\n",
    "\n",
    "generator = Craiyon() # Instantiates the api wrapper\n",
    "result = generator.generate(\"Professional photo of Obama flashing a flag with his last name\") # Generates 9 images by default and you cannot change that\n",
    "print(result.description) # >>> Obama holding up a flag with his last name, smiling confidently\n",
    "images = craiyon_utils.encode_base64(result.images)\n",
    "for i in images:\n",
    "    image = Image.open(BytesIO(base64.decodebytes(i)))\n",
    "    # To convert the .webp images to .jpg or .png, you can proceed like this\n",
    "    # image.convert(\"RGB\").save(\"image.jpg\", \"JPEG\") # For \".jpg\" images\n",
    "    # image.convert(\"RGBA\").save(\"image.png\", \"PNG\") # For \".png\" images\n",
    "    \n",
    "    # Use the PIL's Image object as per your needs"
   ]
  },
  {
   "cell_type": "code",
   "execution_count": null,
   "metadata": {},
   "outputs": [],
   "source": []
  }
 ],
 "metadata": {
  "kernelspec": {
   "display_name": "venv",
   "language": "python",
   "name": "python3"
  },
  "language_info": {
   "codemirror_mode": {
    "name": "ipython",
    "version": 3
   },
   "file_extension": ".py",
   "mimetype": "text/x-python",
   "name": "python",
   "nbconvert_exporter": "python",
   "pygments_lexer": "ipython3",
   "version": "3.10.0"
  }
 },
 "nbformat": 4,
 "nbformat_minor": 2
}
